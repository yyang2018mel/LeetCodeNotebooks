{
 "cells": [
  {
   "cell_type": "code",
   "execution_count": 2,
   "metadata": {
    "dotnet_interactive": {
     "language": "csharp"
    },
    "vscode": {
     "languageId": "dotnet-interactive.csharp"
    }
   },
   "outputs": [],
   "source": [
    "(int Row, int Col) Locate(int label, int n)\n",
    "{\n",
    "    var row = \n",
    "        label / n - 1 + (label % n == 0 ? 0 : 1);\n",
    "    var leftToRight = \n",
    "        row % 2 == 0;\n",
    "    var col = \n",
    "        leftToRight\n",
    "        ? label - (row*n+1)\n",
    "        : n - (label - row*n);\n",
    "    \n",
    "    return (n-row-1, col);\n",
    "}\n",
    "\n",
    "Dictionary<int, List<int>> BuildAdjacencyList(int n, int[][] board)\n",
    "{\n",
    "    var result = new Dictionary<int, List<int>>();\n",
    "\n",
    "    for(var node = 1; node <= n*n; node++)\n",
    "    {\n",
    "        var neighbors = \n",
    "            Enumerable.Range(node+1, Math.Min(node+6, n*n)-node)\n",
    "            .Select(neighbor => \n",
    "            {\n",
    "                var (neighborRow, neighborCol) = Locate(neighbor, n);\n",
    "\n",
    "                var actualNeighbor =  \n",
    "                    board[neighborRow][neighborCol] == -1\n",
    "                    ? neighbor\n",
    "                    : board[neighborRow][neighborCol];\n",
    "\n",
    "                // Console.WriteLine($\"Located {node}'s neighbor {actualNeighbor}.\");\n",
    "\n",
    "                return actualNeighbor;\n",
    "            });\n",
    "\n",
    "        result.Add(node, neighbors.ToList());\n",
    "    }\n",
    "\n",
    "    return result;\n",
    "}\n",
    "\n",
    "bool DoBFS(Dictionary<int, List<int>> adjacencyList, int start, int end, int[] predecessor)\n",
    "{\n",
    "    var visited = new HashSet<int>();\n",
    "    var queue = new Queue<int>();\n",
    "    queue.Enqueue(start);\n",
    "    visited.Add(start);\n",
    "\n",
    "    while(queue.TryDequeue(out var popped))\n",
    "    {\n",
    "        \n",
    "\n",
    "        if (adjacencyList.TryGetValue(popped, out var neighbors))\n",
    "        {\n",
    "            foreach(var neighbor in neighbors)\n",
    "            {\n",
    "                if (!visited.Contains(neighbor))\n",
    "                {\n",
    "                    queue.Enqueue(neighbor);\n",
    "                    predecessor[neighbor] = popped;\n",
    "                    visited.Add(neighbor);\n",
    "                    \n",
    "                    if (neighbor == end) return true;\n",
    "                }\n",
    "            }\n",
    "        }\n",
    "    }\n",
    "    \n",
    "    return false;\n",
    "}\n",
    "\n",
    "public int SnakesAndLadders(int[][] board) \n",
    "{\n",
    "    var n = board.Length;\n",
    "    var start = 1;\n",
    "    var end = n*n;\n",
    "    var graph = BuildAdjacencyList(n, board);\n",
    "    var predecessors = Enumerable.Range(0, end+1).Select(_ => -1).ToArray();\n",
    "    var reached = DoBFS(graph, 1, end, predecessors);\n",
    "\n",
    "    if (!reached) return -1;\n",
    "\n",
    "    // for(var nd = 0; nd < predecessors.Length; nd++)\n",
    "    //     Console.Write($\"{nd}: {predecessors[nd]}\\t\");\n",
    "        \n",
    "    var moves = 0;\n",
    "    while(start != end)\n",
    "    {\n",
    "        end = predecessors[end];\n",
    "        moves++;\n",
    "    }\n",
    "    \n",
    "    return moves;\n",
    "}"
   ]
  },
  {
   "cell_type": "code",
   "execution_count": 3,
   "metadata": {
    "dotnet_interactive": {
     "language": "csharp"
    },
    "vscode": {
     "languageId": "dotnet-interactive.csharp"
    }
   },
   "outputs": [
    {
     "data": {
      "text/html": [
       "<table><thead><tr><th><i>index</i></th><th>value</th></tr></thead><tbody><tr><td>0</td><td><div class=\"dni-plaintext\">[ -1, -1, -1, -1, -1, -1 ]</div></td></tr><tr><td>1</td><td><div class=\"dni-plaintext\">[ -1, -1, -1, -1, -1, -1 ]</div></td></tr><tr><td>2</td><td><div class=\"dni-plaintext\">[ -1, -1, -1, -1, -1, -1 ]</div></td></tr><tr><td>3</td><td><div class=\"dni-plaintext\">[ -1, 35, -1, -1, 13, -1 ]</div></td></tr><tr><td>4</td><td><div class=\"dni-plaintext\">[ -1, -1, -1, -1, -1, -1 ]</div></td></tr><tr><td>5</td><td><div class=\"dni-plaintext\">[ -1, 15, -1, -1, -1, -1 ]</div></td></tr></tbody></table>"
      ]
     },
     "metadata": {},
     "output_type": "display_data"
    }
   ],
   "source": [
    "var board = new int[6][];\n",
    "board[0] = new int[]{-1,-1,-1,-1,-1,-1};\n",
    "board[1] = new int[]{-1,-1,-1,-1,-1,-1};\n",
    "board[2] = new int[]{-1,-1,-1,-1,-1,-1};\n",
    "board[3] = new int[]{-1,35,-1,-1,13,-1};\n",
    "board[4] = new int[]{-1,-1,-1,-1,-1,-1};\n",
    "board[5] = new int[]{-1,15,-1,-1,-1,-1};\n",
    "\n",
    "board"
   ]
  },
  {
   "cell_type": "code",
   "execution_count": 4,
   "metadata": {
    "dotnet_interactive": {
     "language": "csharp"
    },
    "vscode": {
     "languageId": "dotnet-interactive.csharp"
    }
   },
   "outputs": [
    {
     "data": {
      "text/html": [
       "<div class=\"dni-plaintext\">4</div>"
      ]
     },
     "metadata": {},
     "output_type": "display_data"
    }
   ],
   "source": [
    "var result = SnakesAndLadders(board);\n",
    "result"
   ]
  }
 ],
 "metadata": {
  "kernelspec": {
   "display_name": ".NET (C#)",
   "language": "C#",
   "name": ".net-csharp"
  },
  "language_info": {
   "file_extension": ".cs",
   "mimetype": "text/x-csharp",
   "name": "C#",
   "pygments_lexer": "csharp",
   "version": "9.0"
  },
  "orig_nbformat": 4
 },
 "nbformat": 4,
 "nbformat_minor": 2
}
