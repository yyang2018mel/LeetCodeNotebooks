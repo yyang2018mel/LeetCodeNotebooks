{
 "cells": [
  {
   "cell_type": "code",
   "execution_count": 5,
   "metadata": {},
   "outputs": [],
   "source": [
    "private bool CanDivide(string baseStr, string candidate)\n",
    "{\n",
    "    if (baseStr.Length < candidate.Length) return false;\n",
    "    if (baseStr.Length % candidate.Length != 0) return false;\n",
    "\n",
    "    for(var i = 0; i < baseStr.Length; i += candidate.Length)\n",
    "    {\n",
    "        var b = i;\n",
    "        for(var j = 0; j < candidate.Length; j++)\n",
    "        {\n",
    "            if (baseStr[b] != candidate[j]) return false;\n",
    "            b++;\n",
    "        }\n",
    "    }\n",
    "    return true;\n",
    "}"
   ]
  },
  {
   "cell_type": "code",
   "execution_count": 12,
   "metadata": {
    "dotnet_interactive": {
     "language": "csharp"
    },
    "polyglot_notebook": {
     "kernelName": "csharp"
    }
   },
   "outputs": [
    {
     "data": {
      "text/html": [
       "<table><thead><tr><th>Item1</th><th>Item2</th><th>Item3</th><th>Item4</th><th>Item5</th><th>Item6</th></tr></thead><tbody><tr><td><div class=\"dni-plaintext\"><pre>True</pre></div></td><td><div class=\"dni-plaintext\"><pre>False</pre></div></td><td><div class=\"dni-plaintext\"><pre>True</pre></div></td><td><div class=\"dni-plaintext\"><pre>True</pre></div></td><td><div class=\"dni-plaintext\"><pre>True</pre></div></td><td><div class=\"dni-plaintext\"><pre>False</pre></div></td></tr></tbody></table>"
      ]
     },
     "metadata": {},
     "output_type": "display_data"
    }
   ],
   "source": [
    "var c1 = CanDivide(\"ABC\", \"ABC\");\n",
    "var c2 = CanDivide(\"ABC\", \"A\");\n",
    "var c3 = CanDivide(\"ABABAB\", \"AB\");\n",
    "var c4 = CanDivide(\"ABCD\",\"ABCD\");\n",
    "var c5 = CanDivide(\"CABCABCABCAB\",\"CAB\");\n",
    "var c6 = CanDivide(\"CABCABCABCAB\",\"ABC\");\n",
    "\n",
    "(c1, c2, c3, c4, c5, c6)"
   ]
  },
  {
   "cell_type": "code",
   "execution_count": 13,
   "metadata": {
    "dotnet_interactive": {
     "language": "csharp"
    },
    "polyglot_notebook": {
     "kernelName": "csharp"
    }
   },
   "outputs": [],
   "source": [
    "public string GcdOfStrings(string str1, string str2) \n",
    "{\n",
    "    var (shorter, longer) = \n",
    "        str1.Length <= str2.Length\n",
    "        ? (str1, str2)\n",
    "        : (str2, str1);\n",
    "\n",
    "    for(var div = 1; div <= shorter.Length; div++)\n",
    "    {\n",
    "        if (shorter.Length % div != 0) continue;\n",
    "\n",
    "        var prefixShorter = shorter.Substring(0, shorter.Length/div);\n",
    "\n",
    "        if (CanDivide(shorter, prefixShorter) && CanDivide(longer, prefixShorter))\n",
    "            return prefixShorter;\n",
    "    }\n",
    "\n",
    "    return string.Empty;\n",
    "}"
   ]
  },
  {
   "cell_type": "code",
   "execution_count": 19,
   "metadata": {
    "dotnet_interactive": {
     "language": "csharp"
    },
    "polyglot_notebook": {
     "kernelName": "csharp"
    }
   },
   "outputs": [
    {
     "data": {
      "text/html": [
       "<table><thead><tr><th>Item1</th><th>Item2</th><th>Item3</th><th>Item4</th><th>Item5</th><th>Item6</th><th>Item7</th></tr></thead><tbody><tr><td><div class=\"dni-plaintext\"><pre>ABC</pre></div></td><td><div class=\"dni-plaintext\"><pre>AB</pre></div></td><td><div class=\"dni-plaintext\"><pre>ABCD</pre></div></td><td><div class=\"dni-plaintext\"><pre></pre></div></td><td><div class=\"dni-plaintext\"><pre></pre></div></td><td><div class=\"dni-plaintext\"><pre></pre></div></td><td><div class=\"dni-plaintext\"><pre>COCOCODE</pre></div></td></tr></tbody></table>"
      ]
     },
     "metadata": {},
     "output_type": "display_data"
    }
   ],
   "source": [
    "var c1 = GcdOfStrings(\"ABC\", \"ABC\");\n",
    "var c2 = GcdOfStrings(\"ABABAB\", \"AB\");\n",
    "var c3 = GcdOfStrings(\"ABCD\",\"ABCD\");\n",
    "var c4 = GcdOfStrings(\"CABCABCABCAB\",\"CABC\");\n",
    "var c5 = GcdOfStrings(\"CABCABCABCAB\",\"ABC\");\n",
    "var c6 = GcdOfStrings(\"LEET\",\"COE\");\n",
    "var c7 = GcdOfStrings(\"COCOCODE\",\"COCOCODECOCOCODECOCOCODE\");\n",
    "\n",
    "(c1, c2, c3, c4, c5, c6, c7)"
   ]
  },
  {
   "cell_type": "code",
   "execution_count": null,
   "metadata": {
    "dotnet_interactive": {
     "language": "csharp"
    },
    "polyglot_notebook": {
     "kernelName": "csharp"
    }
   },
   "outputs": [],
   "source": []
  }
 ],
 "metadata": {
  "kernelspec": {
   "display_name": ".NET (C#)",
   "language": "C#",
   "name": ".net-csharp"
  },
  "polyglot_notebook": {
   "kernelInfo": {
    "defaultKernelName": "csharp",
    "items": [
     {
      "aliases": [
       "c#",
       "C#"
      ],
      "languageName": "C#",
      "name": "csharp"
     },
     {
      "aliases": [
       "frontend"
      ],
      "languageName": null,
      "name": "vscode"
     }
    ]
   }
  }
 },
 "nbformat": 4,
 "nbformat_minor": 2
}
